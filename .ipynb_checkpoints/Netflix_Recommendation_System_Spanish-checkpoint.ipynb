{
 "cells": [
  {
   "cell_type": "markdown",
   "id": "90a4bc90",
   "metadata": {},
   "source": [
    "\n",
    "# 📺 Sistema de Recomendación de Películas y Series de Netflix\n",
    "\n",
    "Este notebook implementa un **sistema de recomendación basado en contenido** (Content-Based Filtering) usando el dataset **netflix_titles.csv**.\n",
    "\n",
    "El objetivo es sugerir títulos similares a uno dado, analizando sus descripciones textuales mediante **TF-IDF** y **Similitud de Coseno**.\n"
   ]
  },
  {
   "cell_type": "markdown",
   "id": "c8788ca1",
   "metadata": {},
   "source": [
    "\n",
    "## 📌 1. Importar Librerías\n",
    "Importamos las librerías necesarias para análisis de datos, procesamiento de texto y cálculo de similitud.\n"
   ]
  },
  {
   "cell_type": "code",
   "execution_count": null,
   "id": "0830d072",
   "metadata": {},
   "outputs": [],
   "source": [
    "\n",
    "import pandas as pd\n",
    "import numpy as np\n",
    "from sklearn.feature_extraction.text import TfidfVectorizer\n",
    "from sklearn.metrics.pairwise import cosine_similarity\n"
   ]
  },
  {
   "cell_type": "markdown",
   "id": "d2cd749b",
   "metadata": {},
   "source": [
    "\n",
    "## 📌 2. Cargar el Dataset\n",
    "Cargamos el archivo **netflix_titles.csv** y exploramos su estructura.\n"
   ]
  },
  {
   "cell_type": "code",
   "execution_count": null,
   "id": "1da37e47",
   "metadata": {},
   "outputs": [],
   "source": [
    "\n",
    "df = pd.read_csv('netflix_titles.csv')\n",
    "print(\"Shape:\", df.shape)\n",
    "df.head()\n"
   ]
  },
  {
   "cell_type": "markdown",
   "id": "8d8d4732",
   "metadata": {},
   "source": [
    "\n",
    "## 📌 3. Inspeccionar las Columnas\n",
    "Verificamos los tipos de datos y las columnas disponibles.\n"
   ]
  },
  {
   "cell_type": "code",
   "execution_count": null,
   "id": "b4cd374e",
   "metadata": {},
   "outputs": [],
   "source": [
    "\n",
    "df.info()\n"
   ]
  },
  {
   "cell_type": "markdown",
   "id": "602ff831",
   "metadata": {},
   "source": [
    "\n",
    "## 📌 4. Manejo de Valores Nulos\n",
    "Verificamos valores nulos en las columnas relevantes.\n"
   ]
  },
  {
   "cell_type": "code",
   "execution_count": null,
   "id": "ab633877",
   "metadata": {},
   "outputs": [],
   "source": [
    "\n",
    "df.isnull().sum()\n"
   ]
  },
  {
   "cell_type": "markdown",
   "id": "4447e258",
   "metadata": {},
   "source": [
    "\n",
    "Eliminamos filas sin descripción, ya que no pueden ser utilizadas para recomendaciones basadas en contenido.\n"
   ]
  },
  {
   "cell_type": "code",
   "execution_count": null,
   "id": "bb988802",
   "metadata": {},
   "outputs": [],
   "source": [
    "\n",
    "df = df.dropna(subset=['description']).reset_index(drop=True)\n",
    "print(\"Shape después de eliminar nulos:\", df.shape)\n"
   ]
  },
  {
   "cell_type": "markdown",
   "id": "4f80c446",
   "metadata": {},
   "source": [
    "\n",
    "Eliminamos duplicados para evitar recomendaciones redundantes.\n"
   ]
  },
  {
   "cell_type": "code",
   "execution_count": null,
   "id": "09a6a503",
   "metadata": {},
   "outputs": [],
   "source": [
    "\n",
    "df = df.drop_duplicates(subset=['title', 'description']).reset_index(drop=True)\n",
    "print(\"Shape después de quitar duplicados:\", df.shape)\n"
   ]
  },
  {
   "cell_type": "markdown",
   "id": "308d78a7",
   "metadata": {},
   "source": [
    "\n",
    "## 📌 5. Vectorización de Texto con TF-IDF\n",
    "Convertimos las descripciones en vectores numéricos usando TF-IDF.\n"
   ]
  },
  {
   "cell_type": "code",
   "execution_count": null,
   "id": "93b59292",
   "metadata": {},
   "outputs": [],
   "source": [
    "\n",
    "tfidf = TfidfVectorizer(stop_words='english')\n",
    "df['description'] = df['description'].fillna('')\n",
    "tfidf_matrix = tfidf.fit_transform(df['description'])\n",
    "print(\"Shape de la matriz TF-IDF:\", tfidf_matrix.shape)\n"
   ]
  },
  {
   "cell_type": "markdown",
   "id": "10e9b257",
   "metadata": {},
   "source": [
    "\n",
    "## 📌 6. Calcular la Similitud de Coseno\n",
    "Calculamos la similitud de coseno entre todos los títulos.\n"
   ]
  },
  {
   "cell_type": "code",
   "execution_count": null,
   "id": "f8cbda6d",
   "metadata": {},
   "outputs": [],
   "source": [
    "\n",
    "cosine_sim = cosine_similarity(tfidf_matrix, tfidf_matrix)\n",
    "cosine_sim.shape\n"
   ]
  },
  {
   "cell_type": "markdown",
   "id": "e7038f09",
   "metadata": {},
   "source": [
    "\n",
    "## 📌 7. Crear Índice de Búsqueda por Título\n",
    "Creamos un índice que mapea el título al número de fila.\n"
   ]
  },
  {
   "cell_type": "code",
   "execution_count": null,
   "id": "a6c77f57",
   "metadata": {},
   "outputs": [],
   "source": [
    "\n",
    "indices = pd.Series(df.index, index=df['title']).drop_duplicates()\n",
    "indices.head()\n"
   ]
  },
  {
   "cell_type": "markdown",
   "id": "f722dd07",
   "metadata": {},
   "source": [
    "\n",
    "## 📌 8. Definir la Función de Recomendación\n",
    "Esta función devuelve las 10 recomendaciones más similares a un título dado.\n"
   ]
  },
  {
   "cell_type": "code",
   "execution_count": null,
   "id": "341dc35e",
   "metadata": {},
   "outputs": [],
   "source": [
    "\n",
    "def get_recommendations(title, cosine_sim=cosine_sim):\n",
    "    if title not in indices:\n",
    "        print(f\"⚠️ El título '{title}' no existe en la base de datos.\")\n",
    "        return\n",
    "    \n",
    "    idx = indices[title]\n",
    "    sim_scores = list(enumerate(cosine_sim[idx]))\n",
    "    sim_scores = sorted(sim_scores, key=lambda x: x[1], reverse=True)\n",
    "    sim_scores = sim_scores[1:11]\n",
    "    movie_indices = [i[0] for i in sim_scores]\n",
    "    return df[['title', 'description']].iloc[movie_indices]\n"
   ]
  },
  {
   "cell_type": "markdown",
   "id": "0016eadb",
   "metadata": {},
   "source": [
    "\n",
    "## 📌 9. Ejemplo de Uso\n",
    "Probamos la función con un título conocido del catálogo.\n"
   ]
  },
  {
   "cell_type": "code",
   "execution_count": null,
   "id": "1b513cea",
   "metadata": {},
   "outputs": [],
   "source": [
    "\n",
    "get_recommendations('Sherlock Holmes')\n"
   ]
  },
  {
   "cell_type": "markdown",
   "id": "12a21aae",
   "metadata": {},
   "source": [
    "\n",
    "---\n",
    "## ✅ Conclusión\n",
    "\n",
    "Hemos creado un **sencillo sistema de recomendación basado en contenido**, que:\n",
    "\n",
    "- Usa descripciones textuales con **TF-IDF**.  \n",
    "- Calcula similitudes con **Cosine Similarity**.  \n",
    "- Ofrece recomendaciones de títulos similares.\n",
    "\n",
    "Puedes mejorarlo añadiendo más campos (género, país, etc.) o combinándolo con **filtrado colaborativo**.\n",
    "\n",
    "---\n"
   ]
  }
 ],
 "metadata": {},
 "nbformat": 4,
 "nbformat_minor": 5
}
