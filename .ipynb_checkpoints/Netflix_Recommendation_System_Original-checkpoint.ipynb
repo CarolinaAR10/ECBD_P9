{
 "cells": [
  {
   "cell_type": "markdown",
   "id": "46de16a0",
   "metadata": {},
   "source": [
    "\n",
    "# Netflix Recommendation System\n",
    "\n",
    "This is a simple content-based recommender system built using the Netflix Movies and TV Shows dataset.\n"
   ]
  },
  {
   "cell_type": "code",
   "execution_count": null,
   "id": "2ea14225",
   "metadata": {},
   "outputs": [],
   "source": [
    "\n",
    "import numpy as np\n",
    "import pandas as pd\n",
    "import matplotlib.pyplot as plt\n",
    "import seaborn as sns\n",
    "from sklearn.feature_extraction.text import TfidfVectorizer\n",
    "from sklearn.metrics.pairwise import linear_kernel\n"
   ]
  },
  {
   "cell_type": "code",
   "execution_count": null,
   "id": "9deec420",
   "metadata": {},
   "outputs": [],
   "source": [
    "\n",
    "df = pd.read_csv('../input/netflix-shows/netflix_titles.csv')\n",
    "df.shape\n"
   ]
  },
  {
   "cell_type": "code",
   "execution_count": null,
   "id": "9066fb49",
   "metadata": {},
   "outputs": [],
   "source": [
    "\n",
    "df.head()\n"
   ]
  },
  {
   "cell_type": "code",
   "execution_count": null,
   "id": "ef74d1d1",
   "metadata": {},
   "outputs": [],
   "source": [
    "\n",
    "df.info()\n"
   ]
  },
  {
   "cell_type": "code",
   "execution_count": null,
   "id": "92d1e1bf",
   "metadata": {},
   "outputs": [],
   "source": [
    "\n",
    "df.isnull().sum()\n"
   ]
  },
  {
   "cell_type": "code",
   "execution_count": null,
   "id": "d45b0bfd",
   "metadata": {},
   "outputs": [],
   "source": [
    "\n",
    "df.dropna(subset=['description'], inplace=True)\n",
    "df.shape\n"
   ]
  },
  {
   "cell_type": "code",
   "execution_count": null,
   "id": "d4f5b4e3",
   "metadata": {},
   "outputs": [],
   "source": [
    "\n",
    "df.drop_duplicates(subset=['title', 'description'], inplace=True)\n",
    "df.shape\n"
   ]
  },
  {
   "cell_type": "code",
   "execution_count": null,
   "id": "e1b12a7b",
   "metadata": {},
   "outputs": [],
   "source": [
    "\n",
    "tfidf = TfidfVectorizer(stop_words='english')\n",
    "df['description'] = df['description'].fillna('')\n",
    "tfidf_matrix = tfidf.fit_transform(df['description'])\n",
    "tfidf_matrix.shape\n"
   ]
  },
  {
   "cell_type": "code",
   "execution_count": null,
   "id": "645b5dc4",
   "metadata": {},
   "outputs": [],
   "source": [
    "\n",
    "cosine_sim = linear_kernel(tfidf_matrix, tfidf_matrix)\n"
   ]
  },
  {
   "cell_type": "code",
   "execution_count": null,
   "id": "e7549301",
   "metadata": {},
   "outputs": [],
   "source": [
    "\n",
    "indices = pd.Series(df.index, index=df['title']).drop_duplicates()\n"
   ]
  },
  {
   "cell_type": "code",
   "execution_count": null,
   "id": "0824524e",
   "metadata": {},
   "outputs": [],
   "source": [
    "\n",
    "def get_recommendations(title, cosine_sim=cosine_sim):\n",
    "    idx = indices[title]\n",
    "    sim_scores = list(enumerate(cosine_sim[idx]))\n",
    "    sim_scores = sorted(sim_scores, key=lambda x: x[1], reverse=True)\n",
    "    sim_scores = sim_scores[1:11]\n",
    "    movie_indices = [i[0] for i in sim_scores]\n",
    "    return df['title'].iloc[movie_indices]\n"
   ]
  },
  {
   "cell_type": "code",
   "execution_count": null,
   "id": "0880b90d",
   "metadata": {},
   "outputs": [],
   "source": [
    "\n",
    "get_recommendations('Sherlock Holmes')\n"
   ]
  },
  {
   "cell_type": "markdown",
   "id": "5a488dfa",
   "metadata": {},
   "source": [
    "\n",
    "---\n",
    "## Conclusion\n",
    "\n",
    "This notebook demonstrates a simple content-based recommendation system using TF-IDF vectors of the movie descriptions.\n",
    "You can improve it by combining it with other metadata, collaborative filtering, or deep learning approaches.\n"
   ]
  }
 ],
 "metadata": {},
 "nbformat": 4,
 "nbformat_minor": 5
}
